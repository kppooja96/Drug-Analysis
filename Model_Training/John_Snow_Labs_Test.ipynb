{
  "nbformat": 4,
  "nbformat_minor": 0,
  "metadata": {
    "colab": {
      "provenance": [],
      "collapsed_sections": [
        "xnVpV1iaHchm"
      ]
    },
    "kernelspec": {
      "name": "python3",
      "display_name": "Python 3"
    },
    "language_info": {
      "name": "python"
    }
  },
  "cells": [
    {
      "cell_type": "markdown",
      "source": [
        "# DATA603 Big Data Processing Project \n",
        "Group 3: Pooja Kangokar Pranesh, Yun-Zih Chen, Elizabeth Cardosa\n",
        "\n",
        "The goal of this project is leverage big data technologies to train a model using the UCI ML Drug Review dataset to predict the star rating of drug based on the sentiment of the review. This model will then perform inference in a streaming manner on ‘real-time’ reviews coming in. This application can then be used to help potential customers understand the overall sentiment towards a drug and if it might be useful for them. \n"
      ],
      "metadata": {
        "id": "f6WifCaLDGcN"
      }
    },
    {
      "cell_type": "code",
      "execution_count": 1,
      "metadata": {
        "colab": {
          "base_uri": "https://localhost:8080/"
        },
        "id": "QOjNnpYbBbOO",
        "outputId": "7f997526-7d73-4af6-cc4b-24ec12d7386a"
      },
      "outputs": [
        {
          "output_type": "stream",
          "name": "stdout",
          "text": [
            "Drive already mounted at /content/drive; to attempt to forcibly remount, call drive.mount(\"/content/drive\", force_remount=True).\n"
          ]
        }
      ],
      "source": [
        "from google.colab import drive\n",
        "drive.mount('/content/drive')"
      ]
    },
    {
      "cell_type": "code",
      "source": [
        "working_folder = \"/content/drive/My Drive/UMBC Fall 2022/DATA603 Big Data Processing/Project/\""
      ],
      "metadata": {
        "id": "PIZxklXOCF68"
      },
      "execution_count": 2,
      "outputs": []
    },
    {
      "cell_type": "markdown",
      "source": [
        "# Install Libraries and Dependencies"
      ],
      "metadata": {
        "id": "XmKrGUucF-Iv"
      }
    },
    {
      "cell_type": "code",
      "source": [
        "!pip install -qq pyspark\n",
        "!pip install -qq spark-nlp\n",
        "!pip install -q findspark"
      ],
      "metadata": {
        "id": "gHK-NoIfCF-E"
      },
      "execution_count": 3,
      "outputs": []
    },
    {
      "cell_type": "code",
      "source": [
        "!wget http://setup.johnsnowlabs.com/colab.sh -O - | bash"
      ],
      "metadata": {
        "colab": {
          "base_uri": "https://localhost:8080/"
        },
        "id": "FYAw63LcIV0n",
        "outputId": "acef0fda-00fd-46f1-cfc1-e493a143516d"
      },
      "execution_count": 4,
      "outputs": [
        {
          "output_type": "stream",
          "name": "stdout",
          "text": [
            "--2022-12-11 18:15:43--  http://setup.johnsnowlabs.com/colab.sh\n",
            "Resolving setup.johnsnowlabs.com (setup.johnsnowlabs.com)... 51.158.130.125\n",
            "Connecting to setup.johnsnowlabs.com (setup.johnsnowlabs.com)|51.158.130.125|:80... connected.\n",
            "HTTP request sent, awaiting response... 302 Found\n",
            "Location: https://setup.johnsnowlabs.com/colab.sh [following]\n",
            "--2022-12-11 18:15:44--  https://setup.johnsnowlabs.com/colab.sh\n",
            "Connecting to setup.johnsnowlabs.com (setup.johnsnowlabs.com)|51.158.130.125|:443... connected.\n",
            "HTTP request sent, awaiting response... 302 Moved Temporarily\n",
            "Location: https://raw.githubusercontent.com/JohnSnowLabs/spark-nlp/master/scripts/colab_setup.sh [following]\n",
            "--2022-12-11 18:15:45--  https://raw.githubusercontent.com/JohnSnowLabs/spark-nlp/master/scripts/colab_setup.sh\n",
            "Resolving raw.githubusercontent.com (raw.githubusercontent.com)... 185.199.108.133, 185.199.109.133, 185.199.110.133, ...\n",
            "Connecting to raw.githubusercontent.com (raw.githubusercontent.com)|185.199.108.133|:443... connected.\n",
            "HTTP request sent, awaiting response... 200 OK\n",
            "Length: 1191 (1.2K) [text/plain]\n",
            "Saving to: ‘STDOUT’\n",
            "\n",
            "-                     0%[                    ]       0  --.-KB/s               Installing PySpark 3.2.1 and Spark NLP 4.2.4\n",
            "setup Colab for PySpark 3.2.1 and Spark NLP 4.2.4\n",
            "-                   100%[===================>]   1.16K  --.-KB/s    in 0s      \n",
            "\n",
            "2022-12-11 18:15:45 (28.5 MB/s) - written to stdout [1191/1191]\n",
            "\n"
          ]
        }
      ]
    },
    {
      "cell_type": "code",
      "source": [
        "import pyspark.pandas as ps\n",
        "import pandas as pd"
      ],
      "metadata": {
        "colab": {
          "base_uri": "https://localhost:8080/"
        },
        "id": "YXvkRIb6DFc3",
        "outputId": "8b3a5f4a-09b7-4d21-af7c-f34e3be6b4ef"
      },
      "execution_count": 5,
      "outputs": [
        {
          "output_type": "stream",
          "name": "stderr",
          "text": [
            "WARNING:root:'PYARROW_IGNORE_TIMEZONE' environment variable was not set. It is required to set this environment variable to '1' in both driver and executor sides if you use pyarrow>=2.0.0. pandas-on-Spark will set it for you but it does not work if there is a Spark context already launched.\n"
          ]
        }
      ]
    },
    {
      "cell_type": "code",
      "source": [
        "from pyspark.sql.types import *\n",
        "from pyspark.sql.functions import *\n",
        "from pyspark import SparkContext"
      ],
      "metadata": {
        "id": "aO-Tc6NMDRRn"
      },
      "execution_count": 6,
      "outputs": []
    },
    {
      "cell_type": "code",
      "source": [
        "from sparknlp.pretrained import PretrainedPipeline\n",
        "import sparknlp"
      ],
      "metadata": {
        "id": "EgK1m0ALC_Yi"
      },
      "execution_count": 7,
      "outputs": []
    },
    {
      "cell_type": "code",
      "source": [
        "spark = sparknlp.start()\n",
        "\n",
        "print(\"Spark NLP version: {}\".format(sparknlp.version()))\n",
        "print(\"Apache Spark version: {}\".format(spark.version))"
      ],
      "metadata": {
        "colab": {
          "base_uri": "https://localhost:8080/"
        },
        "id": "Cpep-Y83IgNN",
        "outputId": "2ddd1a1a-35a1-4e10-cd68-da79ae0eb8de"
      },
      "execution_count": 8,
      "outputs": [
        {
          "output_type": "stream",
          "name": "stdout",
          "text": [
            "Spark NLP version: 4.2.4\n",
            "Apache Spark version: 3.2.1\n"
          ]
        }
      ]
    },
    {
      "cell_type": "code",
      "source": [
        "sc = SparkContext.getOrCreate();"
      ],
      "metadata": {
        "id": "MrG8uo1zjfU2"
      },
      "execution_count": 9,
      "outputs": []
    },
    {
      "cell_type": "markdown",
      "source": [
        "# Read-in Dataset\n",
        "Dataset: https://archive.ics.uci.edu/ml/datasets/Drug+Review+Dataset+%28Drugs.com%29\n",
        "\n",
        "The dataset provides patient reviews on specific drugs along with related conditions and a 10 star patient rating reflecting overall patient satisfaction. The data was obtained by crawling online pharmaceutical review sites. The intention was to study\n",
        "\n",
        "- sentiment analysis of drug experience over multiple facets, i.e. sentiments learned on specific aspects such as effectiveness and side effects,\n",
        "- the transferability of models among domains, i.e. conditions, and\n",
        "- the transferability of models among different data sources (see 'Drug Review Dataset (Druglib.com)').\n",
        "\n",
        "The data is split into a train (75%) a test (25%) partition (see publication) and stored in two .tsv (tab-separated-values) files, respectively.\n",
        "\n",
        "Attribute Information:\n",
        "\n",
        "1. drugName (categorical): name of drug\n",
        "2. condition (categorical): name of condition\n",
        "3. review (text): patient review\n",
        "4. rating (numerical): 10 star patient rating\n",
        "5. date (date): date of review entry\n",
        "6. usefulCount (numerical): number of users who found review useful\n"
      ],
      "metadata": {
        "id": "ll9VMsHzGDOh"
      }
    },
    {
      "cell_type": "markdown",
      "source": [
        "Important notes:\n",
        "\n",
        "When using this dataset, you agree that you\n",
        "1. only use the data for research purposes\n",
        "2. don't use the data for any commerical purposes\n",
        "3. don't distribute the data to anyone else\n",
        "4. cite us\n",
        "\n",
        "Felix Gräßer, Surya Kallumadi, Hagen Malberg, and Sebastian Zaunseder. 2018. Aspect-Based Sentiment Analysis of Drug Reviews Applying Cross-Domain and Cross-Data Learning. In Proceedings of the 2018 International Conference on Digital Health (DH '18). ACM, New York, NY, USA, 121-125. DOI: [Web Link] "
      ],
      "metadata": {
        "id": "0xOlCh2ISk6v"
      }
    },
    {
      "cell_type": "markdown",
      "source": [
        "## Load in Test Data"
      ],
      "metadata": {
        "id": "xnVpV1iaHchm"
      }
    },
    {
      "cell_type": "code",
      "source": [
        "# Read in training data file\n",
        "customschema = StructType([\n",
        "  StructField(\"UniqueID\", IntegerType(), True)\n",
        "  ,StructField(\"drugName\", StringType(), True)\n",
        "  ,StructField(\"condition\", StringType(), True)\n",
        "  ,StructField(\"review\", StringType(), True)\n",
        "  ,StructField(\"rating\", DoubleType(), True)\n",
        "  ,StructField(\"date\", StringType(), True)\n",
        "  ,StructField(\"usefulCount\", IntegerType(), True)\n",
        "  ])"
      ],
      "metadata": {
        "id": "o4220ehFHerX"
      },
      "execution_count": 10,
      "outputs": []
    },
    {
      "cell_type": "code",
      "source": [
        "df_test = spark.read.format(\"csv\")\\\n",
        "           .option(\"delimiter\", \"\\t\")\\\n",
        "           .option(\"header\", \"true\")\\\n",
        "           .option(\"quote\", \"\\\"\")\\\n",
        "           .option(\"escape\", \"\\\"\")\\\n",
        "           .option(\"multiLine\",\"true\")\\\n",
        "           .option(\"quoteMode\",\"ALL\")\\\n",
        "           .option(\"mode\",\"PERMISSIVE\")\\\n",
        "           .option(\"ignoreLeadingWhiteSpace\",\"true\")\\\n",
        "           .option(\"ignoreTrailingWhiteSpace\",\"true\")\\\n",
        "           .option(\"parserLib\",\"UNIVOCITY\")\\\n",
        "           .schema(customschema)\\\n",
        "           .load(working_folder + \"Data/drugsComTest_raw.tsv\")"
      ],
      "metadata": {
        "id": "prmAhNSIHiZ5"
      },
      "execution_count": 11,
      "outputs": []
    },
    {
      "cell_type": "code",
      "source": [
        "df_test.show(5)"
      ],
      "metadata": {
        "colab": {
          "base_uri": "https://localhost:8080/"
        },
        "id": "tHClVhv7HmUu",
        "outputId": "cc06b53f-5390-4094-a5ef-078321665ea1"
      },
      "execution_count": 12,
      "outputs": [
        {
          "output_type": "stream",
          "name": "stdout",
          "text": [
            "+--------+---------------+--------------------+--------------------+------+------------------+-----------+\n",
            "|UniqueID|       drugName|           condition|              review|rating|              date|usefulCount|\n",
            "+--------+---------------+--------------------+--------------------+------+------------------+-----------+\n",
            "|  163740|    Mirtazapine|          Depression|\"I&#039;ve tried ...|  10.0| February 28, 2012|         22|\n",
            "|  206473|     Mesalamine|Crohn's Disease, ...|\"My son has Crohn...|   8.0|      May 17, 2009|         17|\n",
            "|  159672|        Bactrim|Urinary Tract Inf...|\"Quick reduction ...|   9.0|September 29, 2017|          3|\n",
            "|   39293|       Contrave|         Weight Loss|\"Contrave combine...|   9.0|     March 5, 2017|         35|\n",
            "|   97768|Cyclafem 1 / 35|       Birth Control|\"I have been on t...|   9.0|  October 22, 2015|          4|\n",
            "+--------+---------------+--------------------+--------------------+------+------------------+-----------+\n",
            "only showing top 5 rows\n",
            "\n"
          ]
        }
      ]
    },
    {
      "cell_type": "markdown",
      "source": [
        "## Load in Training Data"
      ],
      "metadata": {
        "id": "a6Ky5tG_HWjQ"
      }
    },
    {
      "cell_type": "code",
      "source": [
        "# Read in training data file\n",
        "customschema = StructType([\n",
        "  StructField(\"UniqueID\", IntegerType(), True)\n",
        "  ,StructField(\"drugName\", StringType(), True)\n",
        "  ,StructField(\"condition\", StringType(), True)\n",
        "  ,StructField(\"review\", StringType(), True)\n",
        "  ,StructField(\"rating\", DoubleType(), True)\n",
        "  ,StructField(\"date\", StringType(), True)\n",
        "  ,StructField(\"usefulCount\", IntegerType(), True)\n",
        "  ])\n",
        "\n",
        "df = spark.read.format(\"csv\")\\\n",
        "           .option(\"delimiter\", \"\\t\")\\\n",
        "           .option(\"header\", \"true\")\\\n",
        "           .option(\"quote\", \"\\\"\")\\\n",
        "           .option(\"escape\", \"\\\"\")\\\n",
        "           .option(\"multiLine\",\"true\")\\\n",
        "           .option(\"quoteMode\",\"ALL\")\\\n",
        "           .option(\"mode\",\"PERMISSIVE\")\\\n",
        "           .option(\"ignoreLeadingWhiteSpace\",\"true\")\\\n",
        "           .option(\"ignoreTrailingWhiteSpace\",\"true\")\\\n",
        "           .option(\"parserLib\",\"UNIVOCITY\")\\\n",
        "           .schema(customschema)\\\n",
        "           .load(working_folder + \"Data/drugsComTrain_raw.tsv\")"
      ],
      "metadata": {
        "id": "9WMlYS-iCGEW"
      },
      "execution_count": 13,
      "outputs": []
    },
    {
      "cell_type": "code",
      "source": [
        "df.groupby('rating').count().show()"
      ],
      "metadata": {
        "colab": {
          "base_uri": "https://localhost:8080/"
        },
        "id": "tuW5_k7sjMBO",
        "outputId": "483bd949-b9e8-4fd9-8bf1-33291fde4056"
      },
      "execution_count": 14,
      "outputs": [
        {
          "output_type": "stream",
          "name": "stdout",
          "text": [
            "+------+-----+\n",
            "|rating|count|\n",
            "+------+-----+\n",
            "|   8.0|18890|\n",
            "|   7.0| 9456|\n",
            "|   1.0|21619|\n",
            "|   4.0| 5012|\n",
            "|   3.0| 6513|\n",
            "|   2.0| 6931|\n",
            "|  10.0|50989|\n",
            "|   6.0| 6343|\n",
            "|   5.0| 8013|\n",
            "|   9.0|27531|\n",
            "+------+-----+\n",
            "\n"
          ]
        }
      ]
    },
    {
      "cell_type": "code",
      "source": [
        "df.show(5)"
      ],
      "metadata": {
        "colab": {
          "base_uri": "https://localhost:8080/"
        },
        "id": "Bz0g5aqDCPo2",
        "outputId": "8ef45532-1e83-4626-ff82-0357792aa320"
      },
      "execution_count": 15,
      "outputs": [
        {
          "output_type": "stream",
          "name": "stdout",
          "text": [
            "+--------+--------------------+--------------------+--------------------+------+-----------------+-----------+\n",
            "|UniqueID|            drugName|           condition|              review|rating|             date|usefulCount|\n",
            "+--------+--------------------+--------------------+--------------------+------+-----------------+-----------+\n",
            "|  206461|           Valsartan|Left Ventricular ...|\"It has no side e...|   9.0|     May 20, 2012|         27|\n",
            "|   95260|          Guanfacine|                ADHD|\"My son is halfwa...|   8.0|   April 27, 2010|        192|\n",
            "|   92703|              Lybrel|       Birth Control|\"I used to take a...|   5.0|December 14, 2009|         17|\n",
            "|  138000|          Ortho Evra|       Birth Control|\"This is my first...|   8.0| November 3, 2015|         10|\n",
            "|   35696|Buprenorphine / n...|   Opiate Dependence|\"Suboxone has com...|   9.0|November 27, 2016|         37|\n",
            "+--------+--------------------+--------------------+--------------------+------+-----------------+-----------+\n",
            "only showing top 5 rows\n",
            "\n"
          ]
        }
      ]
    },
    {
      "cell_type": "code",
      "source": [
        "df.count()"
      ],
      "metadata": {
        "colab": {
          "base_uri": "https://localhost:8080/"
        },
        "id": "nocaGG4bfmex",
        "outputId": "675286bc-7fbf-4bdf-8b38-ae9370d9f00c"
      },
      "execution_count": 16,
      "outputs": [
        {
          "output_type": "execute_result",
          "data": {
            "text/plain": [
              "161297"
            ]
          },
          "metadata": {},
          "execution_count": 16
        }
      ]
    },
    {
      "cell_type": "markdown",
      "source": [
        "# Attempt at Using John Snow Labs pretrained sentiment model pipeline\n",
        "https://nlp.johnsnowlabs.com/\n",
        "\n",
        "Medium Article: \n",
        "https://medium.com/analytics-vidhya/sentiment-analysis-with-sparknlp-couldnt-be-easier-2a8ea3b728a0\n",
        "\n",
        "John Snow Labs Reference Notebook: \n",
        "https://colab.research.google.com/github/JohnSnowLabs/spark-nlp-workshop/blob/master/jupyter/quick_start_google_colab.ipynb#scrollTo=tyMMD_upEfIa\n",
        "\n",
        "This model using BioBERT would potentially perform better, but it is not free-tier:\n",
        "https://nlp.johnsnowlabs.com/2022/07/28/bert_sequence_classifier_drug_reviews_webmd_en_3_0.html\n",
        "\n",
        "Breakdown how pretrained pipeline works under the hood: https://colab.research.google.com/github/JohnSnowLabs/spark-nlp-workshop/blob/master/tutorials/streamlit_notebooks/SENTIMENT_EN.ipynb"
      ],
      "metadata": {
        "id": "mNdO5TcBYkd1"
      }
    },
    {
      "cell_type": "code",
      "source": [
        "pipeline = PretrainedPipeline('analyze_sentimentdl_use_twitter', 'en')"
      ],
      "metadata": {
        "colab": {
          "base_uri": "https://localhost:8080/"
        },
        "outputId": "51b6d4af-5b74-43d2-80c5-9b38b3eddf84",
        "id": "cd133hFgYkd6"
      },
      "execution_count": 17,
      "outputs": [
        {
          "output_type": "stream",
          "name": "stdout",
          "text": [
            "analyze_sentimentdl_use_twitter download started this may take some time.\n",
            "Approx size to download 935.1 MB\n",
            "[OK!]\n"
          ]
        }
      ]
    },
    {
      "cell_type": "code",
      "source": [
        "pipeline.model.stages"
      ],
      "metadata": {
        "colab": {
          "base_uri": "https://localhost:8080/"
        },
        "id": "Zx77DTfdYkd6",
        "outputId": "6e9d5e10-b2f4-4ca7-f749-605cea305321"
      },
      "execution_count": 18,
      "outputs": [
        {
          "output_type": "execute_result",
          "data": {
            "text/plain": [
              "[DocumentAssembler_bc88e2e1b2ae,\n",
              " UNIVERSAL_SENTENCE_ENCODER_4de71669b7ec,\n",
              " SentimentDLModel_eca587b575f7]"
            ]
          },
          "metadata": {},
          "execution_count": 18
        }
      ]
    },
    {
      "cell_type": "markdown",
      "source": [
        "Universal Sentence Encoder: https://nlp.johnsnowlabs.com/2020/04/17/tfhub_use.html"
      ],
      "metadata": {
        "id": "NmgRAHa9Ykd7"
      }
    },
    {
      "cell_type": "code",
      "source": [
        "# rename the text column as 'text', pipeline expects 'text' \n",
        "df_result = pipeline.transform(df.withColumnRenamed(\"review\", \"text\"))"
      ],
      "metadata": {
        "id": "wPKQZ7g8Ykd7"
      },
      "execution_count": 19,
      "outputs": []
    },
    {
      "cell_type": "code",
      "source": [
        "test = pipeline.annotate(\"Holy Hell is exactly how I feel. I had been taking Brisdelle for 1.5 years. The hot flashes did indeed subside - however, the side affects of this medicine coupled with the fact Noven was acquired by YET another pharmaceutical company - YOU CAN&#039;T PLACE A REP IN THE AREA, DISTRIBUTE YOUR DRUGS, AND THEN FIRE HER-AND NOT REPLACE THEREFORE there is NO medicine or support here. You dumped this drug in the Dr&#039;s hands and walked away. After calling Sebula - you act like you don&#039;t even care. You have made it impossible to obtain this. I happen to think this is illegal.  I just decided to wean myself off this and Premarin. It has been nothing short of a nightmare. If you don&#039;t need this drug- DON&#039;T START. Seriously.\")"
      ],
      "metadata": {
        "id": "3xzclj5QYkd9"
      },
      "execution_count": 20,
      "outputs": []
    },
    {
      "cell_type": "code",
      "source": [
        "test"
      ],
      "metadata": {
        "colab": {
          "base_uri": "https://localhost:8080/"
        },
        "id": "CkMMQt4tYkd9",
        "outputId": "7bd180b1-04a4-44a6-b7b2-ffc4463d7dfc"
      },
      "execution_count": 21,
      "outputs": [
        {
          "output_type": "execute_result",
          "data": {
            "text/plain": [
              "{'document': ['Holy Hell is exactly how I feel. I had been taking Brisdelle for 1.5 years. The hot flashes did indeed subside - however, the side affects of this medicine coupled with the fact Noven was acquired by YET another pharmaceutical company - YOU CAN&#039;T PLACE A REP IN THE AREA, DISTRIBUTE YOUR DRUGS, AND THEN FIRE HER-AND NOT REPLACE THEREFORE there is NO medicine or support here. You dumped this drug in the Dr&#039;s hands and walked away. After calling Sebula - you act like you don&#039;t even care. You have made it impossible to obtain this. I happen to think this is illegal.  I just decided to wean myself off this and Premarin. It has been nothing short of a nightmare. If you don&#039;t need this drug- DON&#039;T START. Seriously.'],\n",
              " 'sentence_embeddings': ['Holy Hell is exactly how I feel. I had been taking Brisdelle for 1.5 years. The hot flashes did indeed subside - however, the side affects of this medicine coupled with the fact Noven was acquired by YET another pharmaceutical company - YOU CAN&#039;T PLACE A REP IN THE AREA, DISTRIBUTE YOUR DRUGS, AND THEN FIRE HER-AND NOT REPLACE THEREFORE there is NO medicine or support here. You dumped this drug in the Dr&#039;s hands and walked away. After calling Sebula - you act like you don&#039;t even care. You have made it impossible to obtain this. I happen to think this is illegal.  I just decided to wean myself off this and Premarin. It has been nothing short of a nightmare. If you don&#039;t need this drug- DON&#039;T START. Seriously.'],\n",
              " 'sentiment': ['negative']}"
            ]
          },
          "metadata": {},
          "execution_count": 21
        }
      ]
    },
    {
      "cell_type": "code",
      "source": [
        "print(df_result)"
      ],
      "metadata": {
        "colab": {
          "base_uri": "https://localhost:8080/"
        },
        "id": "pF_hM6jzYkd-",
        "outputId": "6a518b9e-9465-4990-9331-0ef15f8c27ce"
      },
      "execution_count": 22,
      "outputs": [
        {
          "output_type": "stream",
          "name": "stdout",
          "text": [
            "DataFrame[UniqueID: int, drugName: string, condition: string, text: string, rating: double, date: string, usefulCount: int, document: array<struct<annotatorType:string,begin:int,end:int,result:string,metadata:map<string,string>,embeddings:array<float>>>, sentence_embeddings: array<struct<annotatorType:string,begin:int,end:int,result:string,metadata:map<string,string>,embeddings:array<float>>>, sentiment: array<struct<annotatorType:string,begin:int,end:int,result:string,metadata:map<string,string>,embeddings:array<float>>>]\n"
          ]
        }
      ]
    },
    {
      "cell_type": "code",
      "source": [
        "# extract results from \"sentiments\" column\n",
        "df_result = df_result.withColumn(\"sentiment\", explode('sentiment.result'))"
      ],
      "metadata": {
        "id": "zYsSFbv9Ykd-"
      },
      "execution_count": 23,
      "outputs": []
    },
    {
      "cell_type": "code",
      "source": [
        "df_result.show()"
      ],
      "metadata": {
        "colab": {
          "base_uri": "https://localhost:8080/"
        },
        "id": "9TgyudoOYkd-",
        "outputId": "2c98e3ba-625c-414e-bd01-ae43731e14bc"
      },
      "execution_count": 24,
      "outputs": [
        {
          "output_type": "stream",
          "name": "stdout",
          "text": [
            "+--------+--------------------+--------------------+--------------------+------+------------------+-----------+--------------------+--------------------+---------+\n",
            "|UniqueID|            drugName|           condition|                text|rating|              date|usefulCount|            document| sentence_embeddings|sentiment|\n",
            "+--------+--------------------+--------------------+--------------------+------+------------------+-----------+--------------------+--------------------+---------+\n",
            "|  206461|           Valsartan|Left Ventricular ...|\"It has no side e...|   9.0|      May 20, 2012|         27|[{document, 0, 78...|[{sentence_embedd...| negative|\n",
            "|   95260|          Guanfacine|                ADHD|\"My son is halfwa...|   8.0|    April 27, 2010|        192|[{document, 0, 73...|[{sentence_embedd...| negative|\n",
            "|   92703|              Lybrel|       Birth Control|\"I used to take a...|   5.0| December 14, 2009|         17|[{document, 0, 75...|[{sentence_embedd...| negative|\n",
            "|  138000|          Ortho Evra|       Birth Control|\"This is my first...|   8.0|  November 3, 2015|         10|[{document, 0, 44...|[{sentence_embedd...| negative|\n",
            "|   35696|Buprenorphine / n...|   Opiate Dependence|\"Suboxone has com...|   9.0| November 27, 2016|         37|[{document, 0, 71...|[{sentence_embedd...| positive|\n",
            "|  155963|              Cialis|Benign Prostatic ...|\"2nd day on 5mg s...|   2.0| November 28, 2015|         43|[{document, 0, 40...|[{sentence_embedd...| negative|\n",
            "|  165907|      Levonorgestrel|Emergency Contrac...|\"He pulled out, b...|   1.0|     March 7, 2017|          5|[{document, 0, 14...|[{sentence_embedd...| negative|\n",
            "|  102654|        Aripiprazole|     Bipolar Disorde|\"Abilify changed ...|  10.0|    March 14, 2015|         32|[{document, 0, 73...|[{sentence_embedd...| positive|\n",
            "|   74811|              Keppra|            Epilepsy|\" I Ve had  nothi...|   1.0|    August 9, 2016|         11|[{document, 0, 19...|[{sentence_embedd...| negative|\n",
            "|   48928|Ethinyl estradiol...|       Birth Control|\"I had been on th...|   8.0|  December 8, 2016|          1|[{document, 0, 73...|[{sentence_embedd...| negative|\n",
            "|   29607|          Topiramate| Migraine Prevention|\"I have been on t...|   9.0|   January 1, 2015|         19|[{document, 0, 72...|[{sentence_embedd...| negative|\n",
            "|   75612|      L-methylfolate|          Depression|\"I have taken ant...|  10.0|     March 9, 2017|         54|[{document, 0, 45...|[{sentence_embedd...| positive|\n",
            "|  191290|             Pentasa|     Crohn's Disease|\"I had Crohn&#039...|   4.0|      July 6, 2013|          8|[{document, 0, 40...|[{sentence_embedd...| negative|\n",
            "|  221320|    Dextromethorphan|               Cough|\"Have a little bi...|   4.0| September 7, 2017|          1|[{document, 0, 59...|[{sentence_embedd...| negative|\n",
            "|   98494|           Nexplanon|       Birth Control|\"Started Nexplano...|   3.0|    August 7, 2014|         10|[{document, 0, 78...|[{sentence_embedd...| negative|\n",
            "|   81890|         Liraglutide|             Obesity|\"I have been taki...|   9.0|  January 19, 2017|         20|[{document, 0, 73...|[{sentence_embedd...| positive|\n",
            "|   48188|        Trimethoprim|Urinary Tract Inf...|\"This drug worked...|   9.0|September 22, 2017|          0|[{document, 0, 67...|[{sentence_embedd...| negative|\n",
            "|  219869|       Amitriptyline|         ibromyalgia|\"I&#039;ve been t...|   9.0|    March 15, 2017|         39|[{document, 0, 71...|[{sentence_embedd...| negative|\n",
            "|  212077|         Lamotrigine|     Bipolar Disorde|\"I&#039;ve been o...|  10.0|  November 9, 2014|         18|[{document, 0, 76...|[{sentence_embedd...| negative|\n",
            "|  119705|           Nilotinib|Chronic Myelogeno...|\"I have been on T...|  10.0| September 1, 2015|         11|[{document, 0, 47...|[{sentence_embedd...| negative|\n",
            "+--------+--------------------+--------------------+--------------------+------+------------------+-----------+--------------------+--------------------+---------+\n",
            "only showing top 20 rows\n",
            "\n"
          ]
        }
      ]
    }
  ]
}